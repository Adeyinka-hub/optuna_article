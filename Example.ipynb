{
 "cells": [
  {
   "cell_type": "code",
   "execution_count": 1,
   "metadata": {
    "ExecuteTime": {
     "end_time": "2019-02-25T19:59:31.820802Z",
     "start_time": "2019-02-25T19:59:29.657220Z"
    }
   },
   "outputs": [],
   "source": [
    "import numpy as np\n",
    "import os\n",
    "from sklearn.datasets import fetch_20newsgroups\n",
    "from sklearn.model_selection import cross_val_score\n",
    "from sklearn.metrics import f1_score\n",
    "from sklearn.feature_extraction.text import TfidfVectorizer\n",
    "from sklearn.pipeline import Pipeline\n",
    "from sklearn.externals import joblib\n",
    "from lightgbm import LGBMClassifier\n",
    "import optuna"
   ]
  },
  {
   "cell_type": "code",
   "execution_count": 2,
   "metadata": {
    "ExecuteTime": {
     "end_time": "2019-02-25T19:59:32.103554Z",
     "start_time": "2019-02-25T19:59:31.824018Z"
    }
   },
   "outputs": [],
   "source": [
    "data = fetch_20newsgroups()\n",
    "\n",
    "X = data['data'][:5000]\n",
    "y = data['target'][:5000]"
   ]
  },
  {
   "cell_type": "code",
   "execution_count": 3,
   "metadata": {
    "ExecuteTime": {
     "end_time": "2019-02-25T19:59:32.109503Z",
     "start_time": "2019-02-25T19:59:32.105104Z"
    }
   },
   "outputs": [],
   "source": [
    "model = Pipeline([\n",
    "    ('tfidf', TfidfVectorizer(stop_words='english')),   \n",
    "    ('lgbc', LGBMClassifier(objective='f1_score', class_weight='balanced', n_jobs=1))])"
   ]
  },
  {
   "cell_type": "code",
   "execution_count": 4,
   "metadata": {
    "ExecuteTime": {
     "end_time": "2019-02-25T19:59:32.123055Z",
     "start_time": "2019-02-25T19:59:32.113936Z"
    }
   },
   "outputs": [],
   "source": [
    "def objective(trial):    \n",
    "    \n",
    "    joblib.dump(study, 'study.pkl')\n",
    "    \n",
    "    tfidf__analyzer = trial.suggest_categorical('tfidf__analyzer', ['word', 'char', 'char_wb']) \n",
    "    tfidf__lowercase = trial.suggest_categorical('tfidf__lowercase', [False, True]) \n",
    "    tfidf__max_features = trial.suggest_int('tfidf__max_features', 500, 10_000) \n",
    "    lgbc__num_leaves = trial.suggest_int('lgbc__num_leaves', 2, 150) \n",
    "    lgbc__max_depth = trial.suggest_int('lgbc__max_depth', 2, 100) \n",
    "    lgbc__n_estimators = trial.suggest_int('lgbc__n_estimators', 10, 200) \n",
    "    lgbc__subsample_for_bin = trial.suggest_int('lgbc__subsample_for_bin', 2000, 300_000) \n",
    "    lgbc__min_child_samples = trial.suggest_int('lgbc__min_child_samples', 20, 500) \n",
    "    lgbc__reg_alpha = trial.suggest_uniform('lgbc__reg_alpha', 0.0, 1.0) \n",
    "    lgbc__colsample_bytree = trial.suggest_uniform('lgbc__colsample_bytree', 0.6, 1.0) \n",
    "    lgbc__learning_rate = trial.suggest_loguniform('lgbc__learning_rate', 1e-3, 1e-1)   \n",
    "    \n",
    "\n",
    "    params = {\n",
    "        'tfidf__analyzer': tfidf__analyzer,\n",
    "        'tfidf__lowercase': tfidf__lowercase,\n",
    "        'tfidf__max_features': tfidf__max_features,\n",
    "        'lgbc__num_leaves': lgbc__num_leaves,\n",
    "        'lgbc__max_depth': lgbc__max_depth,\n",
    "        'lgbc__n_estimators': lgbc__n_estimators,\n",
    "        'lgbc__subsample_for_bin': lgbc__subsample_for_bin,\n",
    "        'lgbc__min_child_samples': lgbc__min_child_samples,\n",
    "        'lgbc__reg_alpha': lgbc__reg_alpha,\n",
    "        'lgbc__colsample_bytree': lgbc__colsample_bytree,\n",
    "        'lgbc__learning_rate': lgbc__learning_rate\n",
    "    }\n",
    "    \n",
    "    model.set_params(**params)\n",
    "\n",
    "    return - np.mean(cross_val_score(model, X, y, cv=8, n_jobs=-1))"
   ]
  },
  {
   "cell_type": "code",
   "execution_count": 5,
   "metadata": {
    "ExecuteTime": {
     "end_time": "2019-02-25T21:00:48.076013Z",
     "start_time": "2019-02-25T19:59:32.133959Z"
    },
    "scrolled": false
   },
   "outputs": [
    {
     "name": "stderr",
     "output_type": "stream",
     "text": [
      "[I 2019-02-25 21:01:12,960] Finished a trial resulted in value: -0.40009081233137944. Current best value is -0.40009081233137944 with parameters: {'tfidf__analyzer': 'char_wb', 'tfidf__lowercase': False, 'tfidf__max_features': 8674, 'lgbc__num_leaves': 136, 'lgbc__max_depth': 57, 'lgbc__n_estimators': 188, 'lgbc__subsample_for_bin': 113091, 'lgbc__min_child_samples': 336, 'lgbc__reg_alpha': 0.06067536960030162, 'lgbc__colsample_bytree': 0.710570015765403, 'lgbc__learning_rate': 0.05996568102968543}.\n",
      "[I 2019-02-25 21:02:41,766] Finished a trial resulted in value: -0.4746442321600257. Current best value is -0.4746442321600257 with parameters: {'tfidf__analyzer': 'word', 'tfidf__lowercase': True, 'tfidf__max_features': 8671, 'lgbc__num_leaves': 125, 'lgbc__max_depth': 48, 'lgbc__n_estimators': 144, 'lgbc__subsample_for_bin': 140009, 'lgbc__min_child_samples': 199, 'lgbc__reg_alpha': 0.4490141244341166, 'lgbc__colsample_bytree': 0.6721984237674553, 'lgbc__learning_rate': 0.09430538017877864}.\n",
      "[I 2019-02-25 21:03:52,064] Finished a trial resulted in value: -0.315400877286176. Current best value is -0.4746442321600257 with parameters: {'tfidf__analyzer': 'word', 'tfidf__lowercase': True, 'tfidf__max_features': 8671, 'lgbc__num_leaves': 125, 'lgbc__max_depth': 48, 'lgbc__n_estimators': 144, 'lgbc__subsample_for_bin': 140009, 'lgbc__min_child_samples': 199, 'lgbc__reg_alpha': 0.4490141244341166, 'lgbc__colsample_bytree': 0.6721984237674553, 'lgbc__learning_rate': 0.09430538017877864}.\n",
      "[I 2019-02-25 21:07:23,718] Finished a trial resulted in value: -0.34211158851629936. Current best value is -0.4746442321600257 with parameters: {'tfidf__analyzer': 'word', 'tfidf__lowercase': True, 'tfidf__max_features': 8671, 'lgbc__num_leaves': 125, 'lgbc__max_depth': 48, 'lgbc__n_estimators': 144, 'lgbc__subsample_for_bin': 140009, 'lgbc__min_child_samples': 199, 'lgbc__reg_alpha': 0.4490141244341166, 'lgbc__colsample_bytree': 0.6721984237674553, 'lgbc__learning_rate': 0.09430538017877864}.\n",
      "[I 2019-02-25 21:08:15,866] Finished a trial resulted in value: -0.29231136451099987. Current best value is -0.4746442321600257 with parameters: {'tfidf__analyzer': 'word', 'tfidf__lowercase': True, 'tfidf__max_features': 8671, 'lgbc__num_leaves': 125, 'lgbc__max_depth': 48, 'lgbc__n_estimators': 144, 'lgbc__subsample_for_bin': 140009, 'lgbc__min_child_samples': 199, 'lgbc__reg_alpha': 0.4490141244341166, 'lgbc__colsample_bytree': 0.6721984237674553, 'lgbc__learning_rate': 0.09430538017877864}.\n",
      "[I 2019-02-25 21:10:30,485] Finished a trial resulted in value: -0.34981373818855943. Current best value is -0.4746442321600257 with parameters: {'tfidf__analyzer': 'word', 'tfidf__lowercase': True, 'tfidf__max_features': 8671, 'lgbc__num_leaves': 125, 'lgbc__max_depth': 48, 'lgbc__n_estimators': 144, 'lgbc__subsample_for_bin': 140009, 'lgbc__min_child_samples': 199, 'lgbc__reg_alpha': 0.4490141244341166, 'lgbc__colsample_bytree': 0.6721984237674553, 'lgbc__learning_rate': 0.09430538017877864}.\n",
      "[I 2019-02-25 21:14:22,585] Finished a trial resulted in value: -0.6040316704238534. Current best value is -0.6040316704238534 with parameters: {'tfidf__analyzer': 'word', 'tfidf__lowercase': True, 'tfidf__max_features': 8417, 'lgbc__num_leaves': 26, 'lgbc__max_depth': 61, 'lgbc__n_estimators': 180, 'lgbc__subsample_for_bin': 89910, 'lgbc__min_child_samples': 118, 'lgbc__reg_alpha': 0.2511306969314805, 'lgbc__colsample_bytree': 0.8082297659137436, 'lgbc__learning_rate': 0.03719281545294595}.\n",
      "[I 2019-02-25 21:14:39,409] Finished a trial resulted in value: -0.18119409899291483. Current best value is -0.6040316704238534 with parameters: {'tfidf__analyzer': 'word', 'tfidf__lowercase': True, 'tfidf__max_features': 8417, 'lgbc__num_leaves': 26, 'lgbc__max_depth': 61, 'lgbc__n_estimators': 180, 'lgbc__subsample_for_bin': 89910, 'lgbc__min_child_samples': 118, 'lgbc__reg_alpha': 0.2511306969314805, 'lgbc__colsample_bytree': 0.8082297659137436, 'lgbc__learning_rate': 0.03719281545294595}.\n",
      "[I 2019-02-25 21:15:33,104] Finished a trial resulted in value: -0.2931876088946135. Current best value is -0.6040316704238534 with parameters: {'tfidf__analyzer': 'word', 'tfidf__lowercase': True, 'tfidf__max_features': 8417, 'lgbc__num_leaves': 26, 'lgbc__max_depth': 61, 'lgbc__n_estimators': 180, 'lgbc__subsample_for_bin': 89910, 'lgbc__min_child_samples': 118, 'lgbc__reg_alpha': 0.2511306969314805, 'lgbc__colsample_bytree': 0.8082297659137436, 'lgbc__learning_rate': 0.03719281545294595}.\n",
      "[I 2019-02-25 21:16:40,686] Finished a trial resulted in value: -0.2993681617204438. Current best value is -0.6040316704238534 with parameters: {'tfidf__analyzer': 'word', 'tfidf__lowercase': True, 'tfidf__max_features': 8417, 'lgbc__num_leaves': 26, 'lgbc__max_depth': 61, 'lgbc__n_estimators': 180, 'lgbc__subsample_for_bin': 89910, 'lgbc__min_child_samples': 118, 'lgbc__reg_alpha': 0.2511306969314805, 'lgbc__colsample_bytree': 0.8082297659137436, 'lgbc__learning_rate': 0.03719281545294595}.\n",
      "[I 2019-02-25 21:16:53,401] Finished a trial resulted in value: -0.14959224251848566. Current best value is -0.6040316704238534 with parameters: {'tfidf__analyzer': 'word', 'tfidf__lowercase': True, 'tfidf__max_features': 8417, 'lgbc__num_leaves': 26, 'lgbc__max_depth': 61, 'lgbc__n_estimators': 180, 'lgbc__subsample_for_bin': 89910, 'lgbc__min_child_samples': 118, 'lgbc__reg_alpha': 0.2511306969314805, 'lgbc__colsample_bytree': 0.8082297659137436, 'lgbc__learning_rate': 0.03719281545294595}.\n",
      "[I 2019-02-25 21:18:28,996] Finished a trial resulted in value: -0.7156505349501154. Current best value is -0.7156505349501154 with parameters: {'tfidf__analyzer': 'word', 'tfidf__lowercase': True, 'tfidf__max_features': 9969, 'lgbc__num_leaves': 65, 'lgbc__max_depth': 29, 'lgbc__n_estimators': 19, 'lgbc__subsample_for_bin': 9309, 'lgbc__min_child_samples': 22, 'lgbc__reg_alpha': 0.7097473879672915, 'lgbc__colsample_bytree': 0.7875704223990483, 'lgbc__learning_rate': 0.03605652961575837}.\n",
      "/home/pgabrys/.pyenv/versions/miniconda3-4.3.11/lib/python3.6/site-packages/sklearn/externals/joblib/externals/loky/process_executor.py:706: UserWarning:\n",
      "\n",
      "A worker stopped while some jobs were given to the executor. This can be caused by a too short worker timeout or by a memory leak.\n",
      "\n",
      "[I 2019-02-25 21:19:55,637] Finished a trial resulted in value: -0.7118662956967738. Current best value is -0.7156505349501154 with parameters: {'tfidf__analyzer': 'word', 'tfidf__lowercase': True, 'tfidf__max_features': 9969, 'lgbc__num_leaves': 65, 'lgbc__max_depth': 29, 'lgbc__n_estimators': 19, 'lgbc__subsample_for_bin': 9309, 'lgbc__min_child_samples': 22, 'lgbc__reg_alpha': 0.7097473879672915, 'lgbc__colsample_bytree': 0.7875704223990483, 'lgbc__learning_rate': 0.03605652961575837}.\n",
      "[I 2019-02-25 21:20:52,735] Finished a trial resulted in value: -0.48612911816868853. Current best value is -0.7156505349501154 with parameters: {'tfidf__analyzer': 'word', 'tfidf__lowercase': True, 'tfidf__max_features': 9969, 'lgbc__num_leaves': 65, 'lgbc__max_depth': 29, 'lgbc__n_estimators': 19, 'lgbc__subsample_for_bin': 9309, 'lgbc__min_child_samples': 22, 'lgbc__reg_alpha': 0.7097473879672915, 'lgbc__colsample_bytree': 0.7875704223990483, 'lgbc__learning_rate': 0.03605652961575837}.\n",
      "[I 2019-02-25 21:23:13,095] Finished a trial resulted in value: -0.686080033849773. Current best value is -0.7156505349501154 with parameters: {'tfidf__analyzer': 'word', 'tfidf__lowercase': True, 'tfidf__max_features': 9969, 'lgbc__num_leaves': 65, 'lgbc__max_depth': 29, 'lgbc__n_estimators': 19, 'lgbc__subsample_for_bin': 9309, 'lgbc__min_child_samples': 22, 'lgbc__reg_alpha': 0.7097473879672915, 'lgbc__colsample_bytree': 0.7875704223990483, 'lgbc__learning_rate': 0.03605652961575837}.\n"
     ]
    },
    {
     "name": "stderr",
     "output_type": "stream",
     "text": [
      "[I 2019-02-25 21:23:35,573] Finished a trial resulted in value: -0.29386696092105635. Current best value is -0.7156505349501154 with parameters: {'tfidf__analyzer': 'word', 'tfidf__lowercase': True, 'tfidf__max_features': 9969, 'lgbc__num_leaves': 65, 'lgbc__max_depth': 29, 'lgbc__n_estimators': 19, 'lgbc__subsample_for_bin': 9309, 'lgbc__min_child_samples': 22, 'lgbc__reg_alpha': 0.7097473879672915, 'lgbc__colsample_bytree': 0.7875704223990483, 'lgbc__learning_rate': 0.03605652961575837}.\n",
      "[I 2019-02-25 21:24:23,192] Finished a trial resulted in value: -0.30128933881698994. Current best value is -0.7156505349501154 with parameters: {'tfidf__analyzer': 'word', 'tfidf__lowercase': True, 'tfidf__max_features': 9969, 'lgbc__num_leaves': 65, 'lgbc__max_depth': 29, 'lgbc__n_estimators': 19, 'lgbc__subsample_for_bin': 9309, 'lgbc__min_child_samples': 22, 'lgbc__reg_alpha': 0.7097473879672915, 'lgbc__colsample_bytree': 0.7875704223990483, 'lgbc__learning_rate': 0.03605652961575837}.\n",
      "[I 2019-02-25 21:24:38,650] Finished a trial resulted in value: -0.3981818649798051. Current best value is -0.7156505349501154 with parameters: {'tfidf__analyzer': 'word', 'tfidf__lowercase': True, 'tfidf__max_features': 9969, 'lgbc__num_leaves': 65, 'lgbc__max_depth': 29, 'lgbc__n_estimators': 19, 'lgbc__subsample_for_bin': 9309, 'lgbc__min_child_samples': 22, 'lgbc__reg_alpha': 0.7097473879672915, 'lgbc__colsample_bytree': 0.7875704223990483, 'lgbc__learning_rate': 0.03605652961575837}.\n",
      "[I 2019-02-25 21:25:02,002] Finished a trial resulted in value: -0.17158055872116879. Current best value is -0.7156505349501154 with parameters: {'tfidf__analyzer': 'word', 'tfidf__lowercase': True, 'tfidf__max_features': 9969, 'lgbc__num_leaves': 65, 'lgbc__max_depth': 29, 'lgbc__n_estimators': 19, 'lgbc__subsample_for_bin': 9309, 'lgbc__min_child_samples': 22, 'lgbc__reg_alpha': 0.7097473879672915, 'lgbc__colsample_bytree': 0.7875704223990483, 'lgbc__learning_rate': 0.03605652961575837}.\n",
      "[I 2019-02-25 21:25:13,312] Finished a trial resulted in value: -0.2454196613301898. Current best value is -0.7156505349501154 with parameters: {'tfidf__analyzer': 'word', 'tfidf__lowercase': True, 'tfidf__max_features': 9969, 'lgbc__num_leaves': 65, 'lgbc__max_depth': 29, 'lgbc__n_estimators': 19, 'lgbc__subsample_for_bin': 9309, 'lgbc__min_child_samples': 22, 'lgbc__reg_alpha': 0.7097473879672915, 'lgbc__colsample_bytree': 0.7875704223990483, 'lgbc__learning_rate': 0.03605652961575837}.\n",
      "/home/pgabrys/.pyenv/versions/miniconda3-4.3.11/lib/python3.6/site-packages/sklearn/externals/joblib/externals/loky/process_executor.py:706: UserWarning:\n",
      "\n",
      "A worker stopped while some jobs were given to the executor. This can be caused by a too short worker timeout or by a memory leak.\n",
      "\n",
      "[I 2019-02-25 21:28:02,786] Finished a trial resulted in value: -0.7190499407225581. Current best value is -0.7190499407225581 with parameters: {'tfidf__analyzer': 'word', 'tfidf__lowercase': True, 'tfidf__max_features': 7020, 'lgbc__num_leaves': 119, 'lgbc__max_depth': 17, 'lgbc__n_estimators': 38, 'lgbc__subsample_for_bin': 32671, 'lgbc__min_child_samples': 20, 'lgbc__reg_alpha': 0.8551167951265838, 'lgbc__colsample_bytree': 0.7852068815310277, 'lgbc__learning_rate': 0.023043160872099802}.\n",
      "[I 2019-02-25 21:28:16,175] Finished a trial resulted in value: -0.1708042595112922. Current best value is -0.7190499407225581 with parameters: {'tfidf__analyzer': 'word', 'tfidf__lowercase': True, 'tfidf__max_features': 7020, 'lgbc__num_leaves': 119, 'lgbc__max_depth': 17, 'lgbc__n_estimators': 38, 'lgbc__subsample_for_bin': 32671, 'lgbc__min_child_samples': 20, 'lgbc__reg_alpha': 0.8551167951265838, 'lgbc__colsample_bytree': 0.7852068815310277, 'lgbc__learning_rate': 0.023043160872099802}.\n",
      "[I 2019-02-25 21:29:59,053] Finished a trial resulted in value: -0.6036783806752506. Current best value is -0.7190499407225581 with parameters: {'tfidf__analyzer': 'word', 'tfidf__lowercase': True, 'tfidf__max_features': 7020, 'lgbc__num_leaves': 119, 'lgbc__max_depth': 17, 'lgbc__n_estimators': 38, 'lgbc__subsample_for_bin': 32671, 'lgbc__min_child_samples': 20, 'lgbc__reg_alpha': 0.8551167951265838, 'lgbc__colsample_bytree': 0.7852068815310277, 'lgbc__learning_rate': 0.023043160872099802}.\n",
      "[I 2019-02-25 21:30:12,655] Finished a trial resulted in value: -0.27753556189812983. Current best value is -0.7190499407225581 with parameters: {'tfidf__analyzer': 'word', 'tfidf__lowercase': True, 'tfidf__max_features': 7020, 'lgbc__num_leaves': 119, 'lgbc__max_depth': 17, 'lgbc__n_estimators': 38, 'lgbc__subsample_for_bin': 32671, 'lgbc__min_child_samples': 20, 'lgbc__reg_alpha': 0.8551167951265838, 'lgbc__colsample_bytree': 0.7852068815310277, 'lgbc__learning_rate': 0.023043160872099802}.\n",
      "[I 2019-02-25 21:30:54,476] Finished a trial resulted in value: -0.4393993357587317. Current best value is -0.7190499407225581 with parameters: {'tfidf__analyzer': 'word', 'tfidf__lowercase': True, 'tfidf__max_features': 7020, 'lgbc__num_leaves': 119, 'lgbc__max_depth': 17, 'lgbc__n_estimators': 38, 'lgbc__subsample_for_bin': 32671, 'lgbc__min_child_samples': 20, 'lgbc__reg_alpha': 0.8551167951265838, 'lgbc__colsample_bytree': 0.7852068815310277, 'lgbc__learning_rate': 0.023043160872099802}.\n",
      "[I 2019-02-25 21:32:30,526] Finished a trial resulted in value: -0.3135243561992083. Current best value is -0.7190499407225581 with parameters: {'tfidf__analyzer': 'word', 'tfidf__lowercase': True, 'tfidf__max_features': 7020, 'lgbc__num_leaves': 119, 'lgbc__max_depth': 17, 'lgbc__n_estimators': 38, 'lgbc__subsample_for_bin': 32671, 'lgbc__min_child_samples': 20, 'lgbc__reg_alpha': 0.8551167951265838, 'lgbc__colsample_bytree': 0.7852068815310277, 'lgbc__learning_rate': 0.023043160872099802}.\n",
      "[I 2019-02-25 21:34:02,761] Finished a trial resulted in value: -0.3669034331136626. Current best value is -0.7190499407225581 with parameters: {'tfidf__analyzer': 'word', 'tfidf__lowercase': True, 'tfidf__max_features': 7020, 'lgbc__num_leaves': 119, 'lgbc__max_depth': 17, 'lgbc__n_estimators': 38, 'lgbc__subsample_for_bin': 32671, 'lgbc__min_child_samples': 20, 'lgbc__reg_alpha': 0.8551167951265838, 'lgbc__colsample_bytree': 0.7852068815310277, 'lgbc__learning_rate': 0.023043160872099802}.\n",
      "[I 2019-02-25 21:34:18,921] Finished a trial resulted in value: -0.2780268352184032. Current best value is -0.7190499407225581 with parameters: {'tfidf__analyzer': 'word', 'tfidf__lowercase': True, 'tfidf__max_features': 7020, 'lgbc__num_leaves': 119, 'lgbc__max_depth': 17, 'lgbc__n_estimators': 38, 'lgbc__subsample_for_bin': 32671, 'lgbc__min_child_samples': 20, 'lgbc__reg_alpha': 0.8551167951265838, 'lgbc__colsample_bytree': 0.7852068815310277, 'lgbc__learning_rate': 0.023043160872099802}.\n",
      "[I 2019-02-25 21:34:55,728] Finished a trial resulted in value: -0.28666157061388. Current best value is -0.7190499407225581 with parameters: {'tfidf__analyzer': 'word', 'tfidf__lowercase': True, 'tfidf__max_features': 7020, 'lgbc__num_leaves': 119, 'lgbc__max_depth': 17, 'lgbc__n_estimators': 38, 'lgbc__subsample_for_bin': 32671, 'lgbc__min_child_samples': 20, 'lgbc__reg_alpha': 0.8551167951265838, 'lgbc__colsample_bytree': 0.7852068815310277, 'lgbc__learning_rate': 0.023043160872099802}.\n",
      "[I 2019-02-25 21:35:06,323] Finished a trial resulted in value: -0.18364328079065806. Current best value is -0.7190499407225581 with parameters: {'tfidf__analyzer': 'word', 'tfidf__lowercase': True, 'tfidf__max_features': 7020, 'lgbc__num_leaves': 119, 'lgbc__max_depth': 17, 'lgbc__n_estimators': 38, 'lgbc__subsample_for_bin': 32671, 'lgbc__min_child_samples': 20, 'lgbc__reg_alpha': 0.8551167951265838, 'lgbc__colsample_bytree': 0.7852068815310277, 'lgbc__learning_rate': 0.023043160872099802}.\n"
     ]
    },
    {
     "name": "stderr",
     "output_type": "stream",
     "text": [
      "[I 2019-02-25 21:36:06,919] Finished a trial resulted in value: -0.4061360938676233. Current best value is -0.7190499407225581 with parameters: {'tfidf__analyzer': 'word', 'tfidf__lowercase': True, 'tfidf__max_features': 7020, 'lgbc__num_leaves': 119, 'lgbc__max_depth': 17, 'lgbc__n_estimators': 38, 'lgbc__subsample_for_bin': 32671, 'lgbc__min_child_samples': 20, 'lgbc__reg_alpha': 0.8551167951265838, 'lgbc__colsample_bytree': 0.7852068815310277, 'lgbc__learning_rate': 0.023043160872099802}.\n",
      "[I 2019-02-25 21:37:38,459] Finished a trial resulted in value: -0.3383337351765082. Current best value is -0.7190499407225581 with parameters: {'tfidf__analyzer': 'word', 'tfidf__lowercase': True, 'tfidf__max_features': 7020, 'lgbc__num_leaves': 119, 'lgbc__max_depth': 17, 'lgbc__n_estimators': 38, 'lgbc__subsample_for_bin': 32671, 'lgbc__min_child_samples': 20, 'lgbc__reg_alpha': 0.8551167951265838, 'lgbc__colsample_bytree': 0.7852068815310277, 'lgbc__learning_rate': 0.023043160872099802}.\n",
      "[I 2019-02-25 21:38:52,341] Finished a trial resulted in value: -0.40981229540071284. Current best value is -0.7190499407225581 with parameters: {'tfidf__analyzer': 'word', 'tfidf__lowercase': True, 'tfidf__max_features': 7020, 'lgbc__num_leaves': 119, 'lgbc__max_depth': 17, 'lgbc__n_estimators': 38, 'lgbc__subsample_for_bin': 32671, 'lgbc__min_child_samples': 20, 'lgbc__reg_alpha': 0.8551167951265838, 'lgbc__colsample_bytree': 0.7852068815310277, 'lgbc__learning_rate': 0.023043160872099802}.\n",
      "[I 2019-02-25 21:39:04,073] Finished a trial resulted in value: -0.1673856605224663. Current best value is -0.7190499407225581 with parameters: {'tfidf__analyzer': 'word', 'tfidf__lowercase': True, 'tfidf__max_features': 7020, 'lgbc__num_leaves': 119, 'lgbc__max_depth': 17, 'lgbc__n_estimators': 38, 'lgbc__subsample_for_bin': 32671, 'lgbc__min_child_samples': 20, 'lgbc__reg_alpha': 0.8551167951265838, 'lgbc__colsample_bytree': 0.7852068815310277, 'lgbc__learning_rate': 0.023043160872099802}.\n",
      "[I 2019-02-25 21:39:20,514] Finished a trial resulted in value: -0.2281249255237227. Current best value is -0.7190499407225581 with parameters: {'tfidf__analyzer': 'word', 'tfidf__lowercase': True, 'tfidf__max_features': 7020, 'lgbc__num_leaves': 119, 'lgbc__max_depth': 17, 'lgbc__n_estimators': 38, 'lgbc__subsample_for_bin': 32671, 'lgbc__min_child_samples': 20, 'lgbc__reg_alpha': 0.8551167951265838, 'lgbc__colsample_bytree': 0.7852068815310277, 'lgbc__learning_rate': 0.023043160872099802}.\n",
      "[I 2019-02-25 21:40:49,994] Finished a trial resulted in value: -0.37245094684272845. Current best value is -0.7190499407225581 with parameters: {'tfidf__analyzer': 'word', 'tfidf__lowercase': True, 'tfidf__max_features': 7020, 'lgbc__num_leaves': 119, 'lgbc__max_depth': 17, 'lgbc__n_estimators': 38, 'lgbc__subsample_for_bin': 32671, 'lgbc__min_child_samples': 20, 'lgbc__reg_alpha': 0.8551167951265838, 'lgbc__colsample_bytree': 0.7852068815310277, 'lgbc__learning_rate': 0.023043160872099802}.\n",
      "[I 2019-02-25 21:41:17,560] Finished a trial resulted in value: -0.24142517893794263. Current best value is -0.7190499407225581 with parameters: {'tfidf__analyzer': 'word', 'tfidf__lowercase': True, 'tfidf__max_features': 7020, 'lgbc__num_leaves': 119, 'lgbc__max_depth': 17, 'lgbc__n_estimators': 38, 'lgbc__subsample_for_bin': 32671, 'lgbc__min_child_samples': 20, 'lgbc__reg_alpha': 0.8551167951265838, 'lgbc__colsample_bytree': 0.7852068815310277, 'lgbc__learning_rate': 0.023043160872099802}.\n",
      "[I 2019-02-25 21:42:46,706] Finished a trial resulted in value: -0.34592031560593983. Current best value is -0.7190499407225581 with parameters: {'tfidf__analyzer': 'word', 'tfidf__lowercase': True, 'tfidf__max_features': 7020, 'lgbc__num_leaves': 119, 'lgbc__max_depth': 17, 'lgbc__n_estimators': 38, 'lgbc__subsample_for_bin': 32671, 'lgbc__min_child_samples': 20, 'lgbc__reg_alpha': 0.8551167951265838, 'lgbc__colsample_bytree': 0.7852068815310277, 'lgbc__learning_rate': 0.023043160872099802}.\n",
      "[I 2019-02-25 21:43:33,166] Finished a trial resulted in value: -0.34632126477467995. Current best value is -0.7190499407225581 with parameters: {'tfidf__analyzer': 'word', 'tfidf__lowercase': True, 'tfidf__max_features': 7020, 'lgbc__num_leaves': 119, 'lgbc__max_depth': 17, 'lgbc__n_estimators': 38, 'lgbc__subsample_for_bin': 32671, 'lgbc__min_child_samples': 20, 'lgbc__reg_alpha': 0.8551167951265838, 'lgbc__colsample_bytree': 0.7852068815310277, 'lgbc__learning_rate': 0.023043160872099802}.\n",
      "[I 2019-02-25 21:44:03,623] Finished a trial resulted in value: -0.23020657108554193. Current best value is -0.7190499407225581 with parameters: {'tfidf__analyzer': 'word', 'tfidf__lowercase': True, 'tfidf__max_features': 7020, 'lgbc__num_leaves': 119, 'lgbc__max_depth': 17, 'lgbc__n_estimators': 38, 'lgbc__subsample_for_bin': 32671, 'lgbc__min_child_samples': 20, 'lgbc__reg_alpha': 0.8551167951265838, 'lgbc__colsample_bytree': 0.7852068815310277, 'lgbc__learning_rate': 0.023043160872099802}.\n",
      "[I 2019-02-25 21:45:46,741] Finished a trial resulted in value: -0.32491503988482207. Current best value is -0.7190499407225581 with parameters: {'tfidf__analyzer': 'word', 'tfidf__lowercase': True, 'tfidf__max_features': 7020, 'lgbc__num_leaves': 119, 'lgbc__max_depth': 17, 'lgbc__n_estimators': 38, 'lgbc__subsample_for_bin': 32671, 'lgbc__min_child_samples': 20, 'lgbc__reg_alpha': 0.8551167951265838, 'lgbc__colsample_bytree': 0.7852068815310277, 'lgbc__learning_rate': 0.023043160872099802}.\n",
      "[I 2019-02-25 21:48:01,532] Finished a trial resulted in value: -0.49969706327077784. Current best value is -0.7190499407225581 with parameters: {'tfidf__analyzer': 'word', 'tfidf__lowercase': True, 'tfidf__max_features': 7020, 'lgbc__num_leaves': 119, 'lgbc__max_depth': 17, 'lgbc__n_estimators': 38, 'lgbc__subsample_for_bin': 32671, 'lgbc__min_child_samples': 20, 'lgbc__reg_alpha': 0.8551167951265838, 'lgbc__colsample_bytree': 0.7852068815310277, 'lgbc__learning_rate': 0.023043160872099802}.\n",
      "[I 2019-02-25 21:48:30,753] Finished a trial resulted in value: -0.33563476084025284. Current best value is -0.7190499407225581 with parameters: {'tfidf__analyzer': 'word', 'tfidf__lowercase': True, 'tfidf__max_features': 7020, 'lgbc__num_leaves': 119, 'lgbc__max_depth': 17, 'lgbc__n_estimators': 38, 'lgbc__subsample_for_bin': 32671, 'lgbc__min_child_samples': 20, 'lgbc__reg_alpha': 0.8551167951265838, 'lgbc__colsample_bytree': 0.7852068815310277, 'lgbc__learning_rate': 0.023043160872099802}.\n",
      "[I 2019-02-25 21:49:16,618] Finished a trial resulted in value: -0.29475199302106136. Current best value is -0.7190499407225581 with parameters: {'tfidf__analyzer': 'word', 'tfidf__lowercase': True, 'tfidf__max_features': 7020, 'lgbc__num_leaves': 119, 'lgbc__max_depth': 17, 'lgbc__n_estimators': 38, 'lgbc__subsample_for_bin': 32671, 'lgbc__min_child_samples': 20, 'lgbc__reg_alpha': 0.8551167951265838, 'lgbc__colsample_bytree': 0.7852068815310277, 'lgbc__learning_rate': 0.023043160872099802}.\n",
      "[I 2019-02-25 21:49:26,248] Finished a trial resulted in value: -0.1623603783108069. Current best value is -0.7190499407225581 with parameters: {'tfidf__analyzer': 'word', 'tfidf__lowercase': True, 'tfidf__max_features': 7020, 'lgbc__num_leaves': 119, 'lgbc__max_depth': 17, 'lgbc__n_estimators': 38, 'lgbc__subsample_for_bin': 32671, 'lgbc__min_child_samples': 20, 'lgbc__reg_alpha': 0.8551167951265838, 'lgbc__colsample_bytree': 0.7852068815310277, 'lgbc__learning_rate': 0.023043160872099802}.\n",
      "[I 2019-02-25 21:50:31,707] Finished a trial resulted in value: -0.30092840509682994. Current best value is -0.7190499407225581 with parameters: {'tfidf__analyzer': 'word', 'tfidf__lowercase': True, 'tfidf__max_features': 7020, 'lgbc__num_leaves': 119, 'lgbc__max_depth': 17, 'lgbc__n_estimators': 38, 'lgbc__subsample_for_bin': 32671, 'lgbc__min_child_samples': 20, 'lgbc__reg_alpha': 0.8551167951265838, 'lgbc__colsample_bytree': 0.7852068815310277, 'lgbc__learning_rate': 0.023043160872099802}.\n"
     ]
    },
    {
     "name": "stderr",
     "output_type": "stream",
     "text": [
      "[I 2019-02-25 21:54:42,867] Finished a trial resulted in value: -0.6212739489742806. Current best value is -0.7190499407225581 with parameters: {'tfidf__analyzer': 'word', 'tfidf__lowercase': True, 'tfidf__max_features': 7020, 'lgbc__num_leaves': 119, 'lgbc__max_depth': 17, 'lgbc__n_estimators': 38, 'lgbc__subsample_for_bin': 32671, 'lgbc__min_child_samples': 20, 'lgbc__reg_alpha': 0.8551167951265838, 'lgbc__colsample_bytree': 0.7852068815310277, 'lgbc__learning_rate': 0.023043160872099802}.\n",
      "[I 2019-02-25 21:55:32,785] Finished a trial resulted in value: -0.36249154672996553. Current best value is -0.7190499407225581 with parameters: {'tfidf__analyzer': 'word', 'tfidf__lowercase': True, 'tfidf__max_features': 7020, 'lgbc__num_leaves': 119, 'lgbc__max_depth': 17, 'lgbc__n_estimators': 38, 'lgbc__subsample_for_bin': 32671, 'lgbc__min_child_samples': 20, 'lgbc__reg_alpha': 0.8551167951265838, 'lgbc__colsample_bytree': 0.7852068815310277, 'lgbc__learning_rate': 0.023043160872099802}.\n",
      "[I 2019-02-25 21:55:46,349] Finished a trial resulted in value: -0.24447454021883608. Current best value is -0.7190499407225581 with parameters: {'tfidf__analyzer': 'word', 'tfidf__lowercase': True, 'tfidf__max_features': 7020, 'lgbc__num_leaves': 119, 'lgbc__max_depth': 17, 'lgbc__n_estimators': 38, 'lgbc__subsample_for_bin': 32671, 'lgbc__min_child_samples': 20, 'lgbc__reg_alpha': 0.8551167951265838, 'lgbc__colsample_bytree': 0.7852068815310277, 'lgbc__learning_rate': 0.023043160872099802}.\n",
      "[I 2019-02-25 21:56:01,755] Finished a trial resulted in value: -0.1651932487935652. Current best value is -0.7190499407225581 with parameters: {'tfidf__analyzer': 'word', 'tfidf__lowercase': True, 'tfidf__max_features': 7020, 'lgbc__num_leaves': 119, 'lgbc__max_depth': 17, 'lgbc__n_estimators': 38, 'lgbc__subsample_for_bin': 32671, 'lgbc__min_child_samples': 20, 'lgbc__reg_alpha': 0.8551167951265838, 'lgbc__colsample_bytree': 0.7852068815310277, 'lgbc__learning_rate': 0.023043160872099802}.\n",
      "[I 2019-02-25 21:56:20,936] Finished a trial resulted in value: -0.298759110863536. Current best value is -0.7190499407225581 with parameters: {'tfidf__analyzer': 'word', 'tfidf__lowercase': True, 'tfidf__max_features': 7020, 'lgbc__num_leaves': 119, 'lgbc__max_depth': 17, 'lgbc__n_estimators': 38, 'lgbc__subsample_for_bin': 32671, 'lgbc__min_child_samples': 20, 'lgbc__reg_alpha': 0.8551167951265838, 'lgbc__colsample_bytree': 0.7852068815310277, 'lgbc__learning_rate': 0.023043160872099802}.\n",
      "[I 2019-02-25 21:57:03,764] Finished a trial resulted in value: -0.4705269001928353. Current best value is -0.7190499407225581 with parameters: {'tfidf__analyzer': 'word', 'tfidf__lowercase': True, 'tfidf__max_features': 7020, 'lgbc__num_leaves': 119, 'lgbc__max_depth': 17, 'lgbc__n_estimators': 38, 'lgbc__subsample_for_bin': 32671, 'lgbc__min_child_samples': 20, 'lgbc__reg_alpha': 0.8551167951265838, 'lgbc__colsample_bytree': 0.7852068815310277, 'lgbc__learning_rate': 0.023043160872099802}.\n",
      "[I 2019-02-25 21:57:40,442] Finished a trial resulted in value: -0.28246023916449264. Current best value is -0.7190499407225581 with parameters: {'tfidf__analyzer': 'word', 'tfidf__lowercase': True, 'tfidf__max_features': 7020, 'lgbc__num_leaves': 119, 'lgbc__max_depth': 17, 'lgbc__n_estimators': 38, 'lgbc__subsample_for_bin': 32671, 'lgbc__min_child_samples': 20, 'lgbc__reg_alpha': 0.8551167951265838, 'lgbc__colsample_bytree': 0.7852068815310277, 'lgbc__learning_rate': 0.023043160872099802}.\n",
      "[I 2019-02-25 21:58:32,972] Finished a trial resulted in value: -0.7154564870625404. Current best value is -0.7190499407225581 with parameters: {'tfidf__analyzer': 'word', 'tfidf__lowercase': True, 'tfidf__max_features': 7020, 'lgbc__num_leaves': 119, 'lgbc__max_depth': 17, 'lgbc__n_estimators': 38, 'lgbc__subsample_for_bin': 32671, 'lgbc__min_child_samples': 20, 'lgbc__reg_alpha': 0.8551167951265838, 'lgbc__colsample_bytree': 0.7852068815310277, 'lgbc__learning_rate': 0.023043160872099802}.\n",
      "[I 2019-02-25 22:00:48,071] Finished a trial resulted in value: -0.35813148524470984. Current best value is -0.7190499407225581 with parameters: {'tfidf__analyzer': 'word', 'tfidf__lowercase': True, 'tfidf__max_features': 7020, 'lgbc__num_leaves': 119, 'lgbc__max_depth': 17, 'lgbc__n_estimators': 38, 'lgbc__subsample_for_bin': 32671, 'lgbc__min_child_samples': 20, 'lgbc__reg_alpha': 0.8551167951265838, 'lgbc__colsample_bytree': 0.7852068815310277, 'lgbc__learning_rate': 0.023043160872099802}.\n"
     ]
    }
   ],
   "source": [
    "if os.path.isfile('study.pkl'):\n",
    "    study = joblib.load('study.pkl')\n",
    "else:\n",
    "    study = optuna.create_study()\n",
    "study.optimize(objective, timeout=3600)"
   ]
  },
  {
   "cell_type": "code",
   "execution_count": 6,
   "metadata": {
    "ExecuteTime": {
     "end_time": "2019-02-25T21:00:48.087420Z",
     "start_time": "2019-02-25T21:00:48.078213Z"
    }
   },
   "outputs": [
    {
     "name": "stdout",
     "output_type": "stream",
     "text": [
      "best_value: -0.7190499407225581\n"
     ]
    }
   ],
   "source": [
    "print('best_value:', study.best_value)"
   ]
  },
  {
   "cell_type": "code",
   "execution_count": 7,
   "metadata": {
    "ExecuteTime": {
     "end_time": "2019-02-25T21:01:27.272633Z",
     "start_time": "2019-02-25T21:00:48.088945Z"
    }
   },
   "outputs": [
    {
     "data": {
      "text/plain": [
       "Pipeline(memory=None,\n",
       "     steps=[('tfidf', TfidfVectorizer(analyzer='word', binary=False, decode_error='strict',\n",
       "        dtype=<class 'numpy.float64'>, encoding='utf-8', input='content',\n",
       "        lowercase=True, max_df=1.0, max_features=7020, min_df=1,\n",
       "        ngram_range=(1, 1), norm='l2', preprocessor=None, smooth_idf=True,...lambda=0.0,\n",
       "        silent=True, subsample=1.0, subsample_for_bin=32671,\n",
       "        subsample_freq=0))])"
      ]
     },
     "execution_count": 7,
     "metadata": {},
     "output_type": "execute_result"
    }
   ],
   "source": [
    "model.set_params(**study.best_params)\n",
    "model.fit(X, y)"
   ]
  }
 ],
 "metadata": {
  "kernelspec": {
   "display_name": "Python 3",
   "language": "python",
   "name": "python3"
  },
  "language_info": {
   "codemirror_mode": {
    "name": "ipython",
    "version": 3
   },
   "file_extension": ".py",
   "mimetype": "text/x-python",
   "name": "python",
   "nbconvert_exporter": "python",
   "pygments_lexer": "ipython3",
   "version": "3.6.7"
  },
  "toc": {
   "base_numbering": 1,
   "nav_menu": {},
   "number_sections": true,
   "sideBar": true,
   "skip_h1_title": false,
   "title_cell": "Table of Contents",
   "title_sidebar": "Contents",
   "toc_cell": false,
   "toc_position": {},
   "toc_section_display": true,
   "toc_window_display": false
  }
 },
 "nbformat": 4,
 "nbformat_minor": 2
}
